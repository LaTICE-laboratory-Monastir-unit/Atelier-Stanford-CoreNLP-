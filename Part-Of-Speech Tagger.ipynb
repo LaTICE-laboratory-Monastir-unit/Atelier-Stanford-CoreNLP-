{
 "cells": [
  {
   "cell_type": "markdown",
   "metadata": {
    "deletable": true,
    "editable": true
   },
   "source": [
    "# Import"
   ]
  },
  {
   "cell_type": "code",
   "execution_count": null,
   "metadata": {
    "collapsed": true,
    "deletable": true,
    "editable": true
   },
   "outputs": [],
   "source": [
    "from nltk.tag import StanfordPOSTagger\n",
    "import nltk\n",
    "import os"
   ]
  },
  {
   "cell_type": "markdown",
   "metadata": {
    "deletable": true,
    "editable": true
   },
   "source": [
    "# Part-Of-Speech Tagger"
   ]
  },
  {
   "cell_type": "markdown",
   "metadata": {
    "deletable": true,
    "editable": true
   },
   "source": [
    "* A Part-Of-Speech Tagger (POS Tagger) is a piece of software that reads text in some language\n",
    "and assigns parts of speech to each word (and other token), such as noun, verb, adjective, etc., "
   ]
  },
  {
   "cell_type": "markdown",
   "metadata": {
    "deletable": true,
    "editable": true
   },
   "source": [
    "## Requirements"
   ]
  },
  {
   "cell_type": "markdown",
   "metadata": {
    "deletable": true,
    "editable": true
   },
   "source": [
    "* The system requires Java 1.8+ to be installed.\n",
    "* Stanford Log-linear Part-Of-Speech Tagger can be found here https://nlp.stanford.edu/software/tagger.html (Download full Stanford Tagger version 3.7.0 [124 MB] )\n",
    "* NTLK"
   ]
  },
  {
   "cell_type": "markdown",
   "metadata": {
    "deletable": true,
    "editable": true
   },
   "source": [
    "## Log-linear part-of-speech taggers \n",
    "* http://nlp.stanford.edu/~manning/papers/tagging.pdf"
   ]
  },
  {
   "cell_type": "markdown",
   "metadata": {
    "deletable": true,
    "editable": true
   },
   "source": [
    "# Set paths to files"
   ]
  },
  {
   "cell_type": "code",
   "execution_count": null,
   "metadata": {
    "collapsed": false,
    "deletable": true,
    "editable": true
   },
   "outputs": [],
   "source": [
    "java_path = \"C:\\\\Program Files\\\\Java\\\\jdk1.8.0_131\\\\bin\\\\java.exe\"\n",
    "slf4j_path ='C:\\\\stanford-segmenter\\\\slf4j-api.jar'\n",
    "stanford_models_paths = 'C:\\\\stanford-postagger\\\\models'\n",
    "classpath = 'C:\\\\stanford-postagger\\\\stanford-postagger.jar'\n",
    "nltk.internals.config_java(java_path)\n",
    "os.environ['JAVAHOME'] = java_path\n",
    "os.environ['SLF4J'] =slf4j_path\n",
    "os.environ['STANFORD_MODELS'] =stanford_models_paths\n",
    "os.environ['CLASSPATH'] = classpath\n",
    "arabic_tager ='C:\\stanford-postagger\\\\models\\\\arabic.tagger'"
   ]
  },
  {
   "cell_type": "markdown",
   "metadata": {
    "deletable": true,
    "editable": true
   },
   "source": [
    "# Using the part-of-speech tagger"
   ]
  },
  {
   "cell_type": "code",
   "execution_count": null,
   "metadata": {
    "collapsed": true,
    "deletable": true,
    "editable": true
   },
   "outputs": [],
   "source": [
    "tagger = StanfordPOSTagger(arabic_tager)"
   ]
  },
  {
   "cell_type": "markdown",
   "metadata": {
    "collapsed": false,
    "deletable": true,
    "editable": true
   },
   "source": [
    "## Tag a sentence  (list of words)"
   ]
  },
  {
   "cell_type": "code",
   "execution_count": null,
   "metadata": {
    "collapsed": true,
    "deletable": true,
    "editable": true
   },
   "outputs": [],
   "source": [
    "def tag(string):\n",
    "    return ' '.join(reversed([w[1] for w in tagger.tag(string.split())]))"
   ]
  },
  {
   "cell_type": "code",
   "execution_count": null,
   "metadata": {
    "collapsed": false,
    "deletable": true,
    "editable": true
   },
   "outputs": [],
   "source": [
    "sentence = ['من', '!', 'انت', 'و', 'قال', 'ها']\n",
    "sentence_tags = tagger.tag(sentence)\n",
    "print(sentence_tags)"
   ]
  },
  {
   "cell_type": "code",
   "execution_count": null,
   "metadata": {
    "collapsed": false,
    "deletable": true,
    "editable": true
   },
   "outputs": [],
   "source": [
    "def tag(string):\n",
    "    return ' '.join(reversed([w[1] for w in tagger.tag(string.split())]))"
   ]
  },
  {
   "cell_type": "code",
   "execution_count": null,
   "metadata": {
    "collapsed": false,
    "deletable": true,
    "editable": true
   },
   "outputs": [],
   "source": [
    "tag('هذا الرجل هو سعيد')"
   ]
  },
  {
   "cell_type": "markdown",
   "metadata": {
    "deletable": true,
    "editable": true
   },
   "source": [
    "## Tag a list of sentences  (list of list of words)"
   ]
  },
  {
   "cell_type": "code",
   "execution_count": null,
   "metadata": {
    "collapsed": false,
    "deletable": true,
    "editable": true
   },
   "outputs": [],
   "source": [
    "sentences = [['من', '!', 'انت', 'و', 'قال', 'ها'],\n",
    "            ['من', '!', 'انت', 'و', 'قال', 'ها']]\n",
    "sentences_tags = tagger.tag_sents(sentences)\n",
    "print(sentences_tags)"
   ]
  },
  {
   "cell_type": "code",
   "execution_count": null,
   "metadata": {
    "collapsed": false,
    "deletable": true,
    "editable": true
   },
   "outputs": [],
   "source": [
    "def tag_sents(sentences):\n",
    "    return [tag(sentence) for sentence in sentences]"
   ]
  },
  {
   "cell_type": "code",
   "execution_count": null,
   "metadata": {
    "collapsed": false,
    "deletable": true,
    "editable": true
   },
   "outputs": [],
   "source": [
    "sentences = ['و قد اقام النبي في ها تسعة عشر يوما فقط',' ثم غادر ها عائدا الى المدينة المنورة']\n",
    "tag_sents(sentences)"
   ]
  },
  {
   "cell_type": "markdown",
   "metadata": {
    "deletable": true,
    "editable": true
   },
   "source": [
    "## tag a tekonized text file"
   ]
  },
  {
   "cell_type": "code",
   "execution_count": null,
   "metadata": {
    "collapsed": true,
    "deletable": true,
    "editable": true
   },
   "outputs": [],
   "source": [
    "def tag_file(input_file,output_file):\n",
    "    with open(output_file, 'w',encoding='utf8') as new_file:\n",
    "        with open(input_file, 'r',encoding='utf8') as f:\n",
    "            content = f.readlines()\n",
    "            content = [x.strip() for x in content] \n",
    "        print('Number of lines : ',len(content))\n",
    "        lines = tag_sents(content)\n",
    "        new_file.write('\\n'.join(lines))\n",
    "    print('Done. Result in  :',output_file)"
   ]
  },
  {
   "cell_type": "code",
   "execution_count": null,
   "metadata": {
    "collapsed": false,
    "deletable": true,
    "editable": true
   },
   "outputs": [],
   "source": [
    "tokenize_file(input_file='./texts_tekonized.txt',output_file='./texts_tekonized_tag.txt')"
   ]
  },
  {
   "cell_type": "code",
   "execution_count": null,
   "metadata": {
    "collapsed": true,
    "deletable": true,
    "editable": true
   },
   "outputs": [],
   "source": []
  }
 ],
 "metadata": {
  "kernelspec": {
   "display_name": "Python 3",
   "language": "python",
   "name": "python3"
  },
  "language_info": {
   "codemirror_mode": {
    "name": "ipython",
    "version": 3
   },
   "file_extension": ".py",
   "mimetype": "text/x-python",
   "name": "python",
   "nbconvert_exporter": "python",
   "pygments_lexer": "ipython3",
   "version": "3.5.3"
  }
 },
 "nbformat": 4,
 "nbformat_minor": 2
}
